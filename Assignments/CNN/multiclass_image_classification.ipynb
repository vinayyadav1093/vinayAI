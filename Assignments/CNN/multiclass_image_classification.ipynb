{
  "nbformat": 4,
  "nbformat_minor": 0,
  "metadata": {
    "colab": {
      "name": "Untitled0.ipynb",
      "provenance": [],
      "collapsed_sections": []
    },
    "kernelspec": {
      "name": "python3",
      "display_name": "Python 3"
    },
    "accelerator": "GPU"
  },
  "cells": [
    {
      "cell_type": "code",
      "metadata": {
        "id": "U5bNewZCsaC6",
        "colab_type": "code",
        "colab": {}
      },
      "source": [
        "import os"
      ],
      "execution_count": 0,
      "outputs": []
    },
    {
      "cell_type": "code",
      "metadata": {
        "id": "AxDdkRV-tAIO",
        "colab_type": "code",
        "colab": {}
      },
      "source": [
        "PARENT_DIR = '/content/drive/My Drive/Deep_Learning'\n",
        "DATASET_PATH = '/content/drive/My Drive/Deep_Learning/PetImages-20200326T082809Z-001/PetImages'"
      ],
      "execution_count": 0,
      "outputs": []
    },
    {
      "cell_type": "code",
      "metadata": {
        "id": "dd206HRSteiE",
        "colab_type": "code",
        "outputId": "d143e6ae-6246-4c01-c702-756e31e8f33d",
        "colab": {
          "base_uri": "https://localhost:8080/",
          "height": 297
        }
      },
      "source": [
        "# Importing the Keras libraries and packages\n",
        "from keras.models import Sequential\n",
        "from keras.layers import Conv2D\n",
        "from keras.layers import MaxPooling2D\n",
        "from keras.layers import Flatten\n",
        "from keras.layers import Dense\n",
        "\n",
        "# Initialising the CNN\n",
        "classifier = Sequential()\n",
        "\n",
        "# Step 1 - Convolution\n",
        "classifier.add(Conv2D(32, (3, 3), input_shape = (64, 64, 3), activation = 'relu'))\n",
        "\n",
        "# Step 2 - Pooling\n",
        "classifier.add(MaxPooling2D(pool_size = (2, 2)))\n",
        "\n",
        "# Adding a second convolutional layer\n",
        "classifier.add(Conv2D(32, (3, 3), activation = 'relu'))\n",
        "classifier.add(MaxPooling2D(pool_size = (2, 2)))\n",
        "\n",
        "\n",
        "\n",
        "# Step 3 - Flattening\n",
        "classifier.add(Flatten())\n",
        "\n",
        "# Step 4 - Full connection\n",
        "classifier.add(Dense(units = 128, activation = 'relu'))\n",
        "\n",
        "classifier.add(Dense(units = 3, activation = 'softmax'))\n",
        "\n",
        "# Compiling the CNN\n",
        "classifier.compile(optimizer = 'adam', loss = 'binary_crossentropy', metrics = ['accuracy'])\n",
        "\n",
        "# Part 2 - Fitting the CNN to the images\n",
        "\n",
        "from keras.preprocessing.image import ImageDataGenerator\n",
        "\n",
        "train_datagen = ImageDataGenerator(rescale = 1./255,\n",
        "                                   shear_range = 0.2,\n",
        "                                   zoom_range = 0.2,\n",
        "                                   horizontal_flip = True)\n",
        "\n",
        "test_datagen = ImageDataGenerator(rescale = 1./255)\n",
        "\n",
        "training_set = train_datagen.flow_from_directory(DATASET_PATH,\n",
        "                                                 target_size = (64, 64),\n",
        "                                                 batch_size = 32)\n",
        "                                              \n",
        "\n",
        "test_set = test_datagen.flow_from_directory(DATASET_PATH,\n",
        "                                            target_size = (64, 64),\n",
        "                                            batch_size = 32)\n",
        "\n",
        "classifier.fit_generator(training_set,\n",
        "                         steps_per_epoch = 80,\n",
        "                         epochs = 6,\n",
        "                         validation_data = test_set,    \n",
        "                         validation_steps = 20)\n"
      ],
      "execution_count": 0,
      "outputs": [
        {
          "output_type": "stream",
          "text": [
            "Found 291 images belonging to 3 classes.\n",
            "Found 291 images belonging to 3 classes.\n",
            "Epoch 1/6\n",
            "80/80 [==============================] - 14s 178ms/step - loss: 0.4854 - acc: 0.7272 - val_loss: 0.4061 - val_acc: 0.7801\n",
            "Epoch 2/6\n",
            "80/80 [==============================] - 13s 157ms/step - loss: 0.3781 - acc: 0.8036 - val_loss: 0.3008 - val_acc: 0.8557\n",
            "Epoch 3/6\n",
            "80/80 [==============================] - 13s 161ms/step - loss: 0.2880 - acc: 0.8620 - val_loss: 0.1770 - val_acc: 0.9427\n",
            "Epoch 4/6\n",
            "80/80 [==============================] - 13s 163ms/step - loss: 0.2169 - acc: 0.9073 - val_loss: 0.1242 - val_acc: 0.9576\n",
            "Epoch 5/6\n",
            "80/80 [==============================] - 14s 169ms/step - loss: 0.1257 - acc: 0.9548 - val_loss: 0.0957 - val_acc: 0.9599\n",
            "Epoch 6/6\n",
            "80/80 [==============================] - 14s 169ms/step - loss: 0.1361 - acc: 0.9408 - val_loss: 0.1185 - val_acc: 0.9611\n"
          ],
          "name": "stdout"
        },
        {
          "output_type": "execute_result",
          "data": {
            "text/plain": [
              "<keras.callbacks.History at 0x7ff92196a978>"
            ]
          },
          "metadata": {
            "tags": []
          },
          "execution_count": 11
        }
      ]
    },
    {
      "cell_type": "code",
      "metadata": {
        "id": "8ipG2z-RuKgE",
        "colab_type": "code",
        "outputId": "5a9c63f1-8e07-427b-fd91-09daa1bf62b1",
        "colab": {
          "base_uri": "https://localhost:8080/",
          "height": 52
        }
      },
      "source": [
        "# Part 3 - Making new predictions\n",
        "\n",
        "import numpy as np\n",
        "from keras.preprocessing import image\n",
        "test_image = image.load_img(os.path.join(PARENT_DIR,'dogg.jpg'), target_size = (64, 64))\n",
        "test_image = image.img_to_array(test_image)\n",
        "test_image = np.expand_dims(test_image, axis = 0)\n",
        "result = classifier.predict(test_image)\n",
        "print(result)\n",
        "training_set.class_indices\n",
        "animals=dict.keys(training_set.class_indices)\n",
        "print(animals)"
      ],
      "execution_count": 0,
      "outputs": [
        {
          "output_type": "stream",
          "text": [
            "[[0. 1. 0.]]\n",
            "dict_keys(['catt', 'dogg', 'lion'])\n"
          ],
          "name": "stdout"
        }
      ]
    }
  ]
}